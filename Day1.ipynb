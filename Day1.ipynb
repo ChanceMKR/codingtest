{
 "cells": [
  {
   "cell_type": "markdown",
   "id": "a321e054",
   "metadata": {},
   "source": [
    "# CodeUp\n",
    "## 문제 6079 \n",
    "### 언제까지 더해야 할까?\n",
    "1, 2, 3 ... 을 계속 더해 나갈 때,\n",
    "그 합이 입력한 정수(0 ~ 1000)보다 같거나 작을 때까지만\n",
    "계속 더하는 프로그램을 작성해보자.\n",
    "\n",
    "즉, 1부터 n까지 정수를 계속 더해 나간다고 할 때,\n",
    "어디까지 더해야 입력한 수보다 같거나 커지는 지를 알아보고자하는 문제이다."
   ]
  },
  {
   "cell_type": "code",
   "execution_count": 1,
   "id": "9b98554b",
   "metadata": {},
   "outputs": [
    {
     "data": {
      "text/plain": [
       "46"
      ]
     },
     "execution_count": 1,
     "metadata": {},
     "output_type": "execute_result"
    }
   ],
   "source": [
    "sum = 0\n",
    "count = 0\n",
    "while(sum <= 1000):\n",
    "    sum += count\n",
    "    count += 1\n",
    "count"
   ]
  },
  {
   "cell_type": "markdown",
   "id": "fb512165",
   "metadata": {},
   "source": [
    "## 문제 4078\n",
    "### 숫자 야구 게임\n",
    "\n",
    "교원이와 경남이는 숫자야구 게임을 하고 있다.  \n",
    "교원이가 세자리 수 a를 생각하면, 경남이는 정답 a를 맞히기 위해 세자리 수 b를 n번 부른다. 숫자야구의 규칙은 다음과 같다.\n",
    "\n",
    "1. S(Strike): a와 b를 구성하는 수의 자릿수와 숫자가 일치할 경우\n",
    "\n",
    "2. B(Ball): a와 b를 구성하는 수의 자릿수는 다르고 숫자만 일치할 경우\n",
    "\n",
    "3. OUT: a와 b를 구성하는 수의 자릿수와 숫자가 모두 일치하지 않을 경우\n",
    "\n",
    "4. 종료조건: 3S 즉 a와 b가 같은 수일 경우\n",
    "\n",
    "예) a=123 b=456 일 경우 OUT\n",
    "\n",
    "a=123 b=145 일 경우 1S\n",
    "\n",
    "a=123 b=415 일 경우 1B\n",
    "\n",
    "a=123 b=215 일 경우 2B\n",
    "\n",
    "a=123 b=231 일 경우 3B\n",
    "\n",
    "a=123 b=139 일 경우 1S1B\n",
    "\n",
    "a=123 b=321 일 경우 1S2B\n",
    "\n",
    "a=123 b=523 일 경우 2S\n",
    "\n",
    "a=123 b=123 일 경우 3S 게임종료\n",
    "\n",
    "\n",
    "입력값에 따라 S와 B를 판단하는 프로그램을 작성하시오."
   ]
  },
  {
   "cell_type": "markdown",
   "id": "0191c48f",
   "metadata": {},
   "source": [
    "### 출력\n",
    "1. 첫 행부터 경남이가 도전한 세자리 수에 대한 교원이의 대답을 한 줄씩 출력한다. (단, S와 B가 같이 출력되는 경우 S를 먼저 출력한 후 B를 출력한다.)\n",
    "\n",
    "2. 마지막 행에는 SUCCESS 또는 FAIL을 출력한다.\n",
    "\n",
    "3. 3S가 출력되면 SUCCESS가 출력되고 3S 이후의 대답은 출력하지 않는다.\n",
    "\n",
    "4. 도전 기회(n번) 이내 3S가 나오지 않을 경우 마지막 행에 FAIL을 출력한다."
   ]
  },
  {
   "cell_type": "code",
   "execution_count": 29,
   "id": "8e872f52",
   "metadata": {},
   "outputs": [
    {
     "name": "stdout",
     "output_type": "stream",
     "text": [
      "1B 123\n",
      "1B 456\n",
      "1S 789\n",
      "1S 159\n",
      "2S 249\n",
      "3S 269\n",
      "SUCCESS\n"
     ]
    }
   ],
   "source": [
    "a = input()\n",
    "n = 10\n",
    "strike = 0\n",
    "ball = 0\n",
    "for i in range(n):\n",
    "    b = input()\n",
    "    strike = 0\n",
    "    ball = 0\n",
    "    for j in range(3):\n",
    "        if b[j] == a[j]:\n",
    "            strike += 1\n",
    "        else:\n",
    "            if b[j] in a:\n",
    "                ball += 1\n",
    "    if strike==0 and ball==0:\n",
    "        ans = \"OUT\"\n",
    "    elif strike==0:\n",
    "        ans = str(ball) + \"B\"\n",
    "    elif ball==0:\n",
    "        ans = str(strike) + \"S\"\n",
    "    else:\n",
    "        ans = str(strike) + \"S\" + str(ball) + \"B\"\n",
    "\n",
    "    print(b, ans)\n",
    "    if ans == \"3S\":\n",
    "        print(\"SUCCESS\")\n",
    "        break\n",
    "    if i==n-1:\n",
    "        if ans != \"3S\":\n",
    "            print(\"FAIL\")"
   ]
  },
  {
   "cell_type": "code",
   "execution_count": null,
   "id": "b839180c",
   "metadata": {},
   "outputs": [],
   "source": []
  }
 ],
 "metadata": {
  "kernelspec": {
   "display_name": "Python 3.9.12 64-bit",
   "language": "python",
   "name": "python3"
  },
  "language_info": {
   "codemirror_mode": {
    "name": "ipython",
    "version": 3
   },
   "file_extension": ".py",
   "mimetype": "text/x-python",
   "name": "python",
   "nbconvert_exporter": "python",
   "pygments_lexer": "ipython3",
   "version": "3.9.12"
  },
  "toc": {
   "base_numbering": 1,
   "nav_menu": {},
   "number_sections": false,
   "sideBar": true,
   "skip_h1_title": false,
   "title_cell": "Table of Contents",
   "title_sidebar": "Contents",
   "toc_cell": false,
   "toc_position": {},
   "toc_section_display": true,
   "toc_window_display": false
  },
  "vscode": {
   "interpreter": {
    "hash": "b0fa6594d8f4cbf19f97940f81e996739fb7646882a419484c72d19e05852a7e"
   }
  }
 },
 "nbformat": 4,
 "nbformat_minor": 5
}
